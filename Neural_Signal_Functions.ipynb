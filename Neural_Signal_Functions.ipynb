{
  "nbformat": 4,
  "nbformat_minor": 0,
  "metadata": {
    "colab": {
      "name": "CI_Group6.ipynb",
      "provenance": [],
      "collapsed_sections": [],
      "include_colab_link": true
    },
    "kernelspec": {
      "name": "python3",
      "display_name": "Python 3"
    }
  },
  "cells": [
    {
      "cell_type": "markdown",
      "metadata": {
        "id": "view-in-github",
        "colab_type": "text"
      },
      "source": [
        "<a href=\"https://colab.research.google.com/github/vsvt2000/Neural_Networks_15CSE338/blob/main/Neural_Signal_Functions.ipynb\" target=\"_parent\"><img src=\"https://colab.research.google.com/assets/colab-badge.svg\" alt=\"Open In Colab\"/></a>"
      ]
    },
    {
      "cell_type": "code",
      "metadata": {
        "id": "e_Ht6uN4qX78"
      },
      "source": [
        "import numpy as np\n",
        "import math\n",
        "import matplotlib.pyplot as plt"
      ],
      "execution_count": null,
      "outputs": []
    },
    {
      "cell_type": "markdown",
      "metadata": {
        "id": "8zr_9iLhV49v"
      },
      "source": [
        "**Binary threshold Signal Function**"
      ]
    },
    {
      "cell_type": "code",
      "metadata": {
        "id": "nAgpKf3_KAMk"
      },
      "source": [
        "def BTSF():\n",
        "  x=input(\"Enter the input pattern: \").split(' ')\n",
        "  for i in range(len(x)):\n",
        "    x[i]=int(x[i])\n",
        "  x=np.array(x)\n",
        "#S is a vector , usually denoted in columns.Normal numpy array representation serves to be the transpose of S\n",
        "  y=input(\"Enter the weights of inputs: \").split(' ')\n",
        "  for i in range(len(y)):\n",
        "    y[i]=int(y[i])\n",
        "  y=np.transpose(np.array(y))\n",
        "  z=x*y\n",
        "  z=np.sum(z)\n",
        "\n",
        "  b = float(input(\"Bias:\"))\n",
        "  print(\"The BTSF signal is :\",BTSF1(z,b))\n",
        "  plot_BTSF(z,b)\n",
        "  return z"
      ],
      "execution_count": null,
      "outputs": []
    },
    {
      "cell_type": "code",
      "metadata": {
        "id": "UPauchvwJ_SP"
      },
      "source": [
        "def BTSF1(z,b):\n",
        "  #The decision to put signal as 1 or 0\n",
        "  if z+b>0:\n",
        "    return 1\n",
        "  else:\n",
        "    return 0"
      ],
      "execution_count": null,
      "outputs": []
    },
    {
      "cell_type": "code",
      "metadata": {
        "id": "fk5KTuzJJKKg"
      },
      "source": [
        "def plot_BTSF(z,b):\n",
        "  import matplotlib.pyplot as plt\n",
        "  x=[i for i in range(z-10,z+10)]\n",
        "  y=[BTSF1(i,b) for i in range(z-10,z+10)]\n",
        "  plt.plot(x,y)\n",
        "  plt.show()"
      ],
      "execution_count": null,
      "outputs": []
    },
    {
      "cell_type": "markdown",
      "metadata": {
        "id": "BhmYgh1nN2Ru"
      },
      "source": [
        "**Bipolar Case of BTSF**"
      ]
    },
    {
      "cell_type": "code",
      "metadata": {
        "id": "cH2NksI_KZkV"
      },
      "source": [
        "def BTSF0():\n",
        "  x=input(\"Enter the input pattern: \").split(' ')\n",
        "  for i in range(len(x)):\n",
        "    x[i]=int(x[i])\n",
        "  x=np.array(x)\n",
        "#S is a vector , usually denoted in columns.Normal numpy array representation serves to be the transpose of S\n",
        "  y=input(\"Enter the weights of inputs: \").split(' ')\n",
        "  for i in range(len(y)):\n",
        "    y[i]=int(y[i])\n",
        "  y=np.transpose(np.array(y))\n",
        "  z=x*y\n",
        "  z=np.sum(z)\n",
        "\n",
        "  b = float(input(\"Bias:\"))\n",
        "  print(\"The BTSF signal is :\",BTSF2(z,b))\n",
        "  plot_BTSF1(z,b)\n",
        "  return z"
      ],
      "execution_count": null,
      "outputs": []
    },
    {
      "cell_type": "code",
      "metadata": {
        "id": "84f3RH9IJ1SA"
      },
      "source": [
        "def BTSF2(z,b):\n",
        "  #The decision to put signal as 1 or 0\n",
        "  if z+b>0:\n",
        "    return 1\n",
        "  else:\n",
        "    return -1"
      ],
      "execution_count": null,
      "outputs": []
    },
    {
      "cell_type": "code",
      "metadata": {
        "id": "NiXmxBSwJ8Nc"
      },
      "source": [
        "def plot_BTSF1(z,b):\n",
        "  import matplotlib.pyplot as plt\n",
        "  x=[i for i in range(z-10,z+10)]\n",
        "  y=[BTSF2(i,b) for i in range(z-10,z+10)]\n",
        "  plt.plot(x,y)\n",
        "  plt.show()"
      ],
      "execution_count": null,
      "outputs": []
    },
    {
      "cell_type": "markdown",
      "metadata": {
        "id": "q2YHIPHgTGoI"
      },
      "source": [
        "**Linear Activation Function**"
      ]
    },
    {
      "cell_type": "code",
      "metadata": {
        "id": "M4q6It-VTLl0"
      },
      "source": [
        "def LSF_helper(x, alpha = 0.2):\n",
        "  return alpha*x\n"
      ],
      "execution_count": null,
      "outputs": []
    },
    {
      "cell_type": "code",
      "metadata": {
        "id": "B1sX81ACTMJm"
      },
      "source": [
        "def LSF():\n",
        "  x = getInput()\n",
        "  alpha = float(input(\"Alpha:\"))\n",
        "  x = LSF_helper(x, alpha)\n",
        "  print(\"The LTSF signal is :\",x)\n",
        "  my_plot(LSF_helper)\n",
        "  return x"
      ],
      "execution_count": null,
      "outputs": []
    },
    {
      "cell_type": "markdown",
      "metadata": {
        "id": "tynMaUOcV9SP"
      },
      "source": [
        "**Linear Threshold Signal Function**"
      ]
    },
    {
      "cell_type": "code",
      "metadata": {
        "id": "NMRZWK-n45js"
      },
      "source": [
        "def getInput():\n",
        "  w = list(map(float, input(\"W:\").split()))\n",
        "  w = np.array(w)\n",
        "  s = list(map(float,input(\"S:\").split()))\n",
        "  s = np.array(s)\n",
        "  s = np.transpose(s)\n",
        "  x = w*s\n",
        "  x = np.sum(x)\n",
        "  b = float(input(\"Bias:\"))\n",
        "  x += b\n",
        "  return x"
      ],
      "execution_count": null,
      "outputs": []
    },
    {
      "cell_type": "code",
      "metadata": {
        "id": "afRbXoCw1h0p"
      },
      "source": [
        "def LTSF_helper(x, alpha = 0.2):\n",
        "  if x<0:\n",
        "    return 0\n",
        "  elif x<= 5:\n",
        "    return alpha*x\n",
        "  return 1"
      ],
      "execution_count": null,
      "outputs": []
    },
    {
      "cell_type": "code",
      "metadata": {
        "id": "y-9uAG_ue45s"
      },
      "source": [
        "def LTSF():\n",
        "  x = getInput()\n",
        "  alpha = float(input(\"Alpha:\"))\n",
        "  x = LTSF_helper(x, alpha)\n",
        "  print(\"The LTSF signal is :\",x)\n",
        "  my_plot(LTSF_helper)\n",
        "  return x"
      ],
      "execution_count": null,
      "outputs": []
    },
    {
      "cell_type": "code",
      "metadata": {
        "id": "xVpHvbjG0ZDs"
      },
      "source": [
        "def my_plot(f):\n",
        "  y= []\n",
        "  x = range(-10,11)\n",
        "  for i in x:\n",
        "    y.append(f(i))\n",
        "  plt.plot(x,y)\n",
        "  plt.xlabel(\"X\")\n",
        "  plt.ylabel(\"Signal Function(X)\")\n",
        "  plt.show()"
      ],
      "execution_count": null,
      "outputs": []
    },
    {
      "cell_type": "markdown",
      "metadata": {
        "id": "4gn0rPEVvvAi"
      },
      "source": [
        "**Rectified Linear Output**"
      ]
    },
    {
      "cell_type": "code",
      "metadata": {
        "id": "SXssCXXAxfGI"
      },
      "source": [
        "def RELU_helper(x):\n",
        "  if(x<0):\n",
        "    return 0\n",
        "  return x"
      ],
      "execution_count": null,
      "outputs": []
    },
    {
      "cell_type": "code",
      "metadata": {
        "id": "edCU7989vzVV"
      },
      "source": [
        "def RELU():\n",
        "  x = getInput()\n",
        "  z = RELU_helper(x)\n",
        "  print(\"The RELU signal is :\",z)\n",
        "  my_plot(RELU_helper)"
      ],
      "execution_count": null,
      "outputs": []
    },
    {
      "cell_type": "markdown",
      "metadata": {
        "id": "Tz60WlMuQddd"
      },
      "source": [
        "**Leaky RELU**"
      ]
    },
    {
      "cell_type": "code",
      "metadata": {
        "id": "VWP46o9HQh8V"
      },
      "source": [
        "def LeakyRELU_helper(x,a=0.5):\n",
        "  if(x<0):\n",
        "    return a*x\n",
        "  return x"
      ],
      "execution_count": null,
      "outputs": []
    },
    {
      "cell_type": "code",
      "metadata": {
        "id": "BbI26mBbQmTm"
      },
      "source": [
        "def LeakyRELU():\n",
        "  x = getInput()\n",
        "  a = float(input(\"Enter alpha:\"))\n",
        "  z = LeakyRELU_helper(x,a)\n",
        "  print(\"The Leaky RELU signal is :\",z)\n",
        "  my_plot(LeakyRELU_helper)"
      ],
      "execution_count": null,
      "outputs": []
    },
    {
      "cell_type": "markdown",
      "metadata": {
        "id": "BbozMiV8WBef"
      },
      "source": [
        "**Sigmoid Signal Function**"
      ]
    },
    {
      "cell_type": "code",
      "metadata": {
        "id": "tzIJnTJvV1gV"
      },
      "source": [
        "def sigmoidSF():\n",
        "  x=getInput()\n",
        "  l=float(input(\"Gain Factor:\"))\n",
        "  result=SSF(x,l)\n",
        "  print(\"The SIGMOID signal is : \",result)\n",
        "  print(int(result))\n",
        "  xl=range(int(x)-10,int(x)+11)\n",
        "  yl=[]\n",
        "  for i in xl:\n",
        "    yl.append(SSF(i,l))\n",
        "  sigmoidPLOT(xl,yl,x,result)"
      ],
      "execution_count": null,
      "outputs": []
    },
    {
      "cell_type": "code",
      "metadata": {
        "id": "SkyfAv6vU6b6"
      },
      "source": [
        "def SSF(x,l):\n",
        "  y=1+math.exp(-x*l)\n",
        "  y=1/y\n",
        "  return y"
      ],
      "execution_count": null,
      "outputs": []
    },
    {
      "cell_type": "code",
      "metadata": {
        "id": "H3rW4i9YSCcT"
      },
      "source": [
        "def sigmoidPLOT(x,y,z,fz):\n",
        "  \n",
        "  plt.plot(x,y)\n",
        "  plt.xlabel(\"X\")\n",
        "  plt.ylabel(\"sigmoid(x)\")\n",
        "  plt.show()"
      ],
      "execution_count": null,
      "outputs": []
    },
    {
      "cell_type": "markdown",
      "metadata": {
        "id": "F1n9ryFIT1OT"
      },
      "source": [
        "**TANH Signal Function**"
      ]
    },
    {
      "cell_type": "code",
      "metadata": {
        "id": "Ed9HPUdQT5ZP"
      },
      "source": [
        "def tanhSF():\n",
        "  x=getInput()\n",
        "  l=float(input(\"Gain Factor:\"))\n",
        "  k=float(input(\"k:\"))\n",
        "  result=k*math.tanh(l*x)\n",
        "  print(\"The TANH signal is : \",result)\n",
        "  xl=range(int(x)-10,int(x)+11)\n",
        "  yl=[]\n",
        "  for i in xl:\n",
        "    yl.append(k*math.tanh(l*i))\n",
        "  sigmoidPLOT(xl,yl,x,result)"
      ],
      "execution_count": null,
      "outputs": []
    },
    {
      "cell_type": "markdown",
      "metadata": {
        "id": "9ZlT-1ksWFW_"
      },
      "source": [
        "**Gaussian Signal Function**"
      ]
    },
    {
      "cell_type": "code",
      "metadata": {
        "id": "4tJ3q720V3bk"
      },
      "source": [
        "def gaussianSF():\n",
        "    c = float(input(\"Center:\"))\n",
        "    s = float(input(\"Gaussian Spread Factor:\"))\n",
        "    x = getInput()\n",
        "    S = gaussianSF1(x,c,s)\n",
        "    print(\"The Gaussian signal is :\",S) \n",
        "    plot_gaussianSF(c,s)\n",
        "    return S"
      ],
      "execution_count": null,
      "outputs": []
    },
    {
      "cell_type": "code",
      "metadata": {
        "id": "hCYE-Oa6kU3z"
      },
      "source": [
        "def gaussianSF1(x,c,s):\n",
        "  num = pow(x-c,2)\n",
        "  den = 2*pow(s,2)\n",
        "  m = -num/den\n",
        "  return math.exp(m)"
      ],
      "execution_count": null,
      "outputs": []
    },
    {
      "cell_type": "code",
      "metadata": {
        "id": "zX0nl08RkXu4"
      },
      "source": [
        "def plot_gaussianSF(c,s):\n",
        "    x = np.arange(c-2*s,c+2*s,0.01)\n",
        "    y = []\n",
        "    for i in x:\n",
        "        y.append(gaussianSF1(i,c,s))\n",
        "    plt.plot(x,y)"
      ],
      "execution_count": null,
      "outputs": []
    },
    {
      "cell_type": "markdown",
      "metadata": {
        "id": "BdlwOm3PXk2X"
      },
      "source": [
        "**Stochastic function**"
      ]
    },
    {
      "cell_type": "code",
      "metadata": {
        "id": "Dd9hHuCFXpBZ"
      },
      "source": [
        "def stochastic():\n",
        "  x=input(\"Enter the input pattern: \").split(' ')\n",
        "  for i in range(len(x)):\n",
        "    x[i]=int(x[i])\n",
        "  x=np.array(x)\n",
        "#S is a vector , usually denoted in columns.Normal numpy array representation serves to be the transpose of S\n",
        "  y=input(\"Enter the weights of inputs: \").split(' ')\n",
        "  for i in range(len(y)):\n",
        "    y[i]=int(y[i])\n",
        "  y=np.transpose(np.array(y))\n",
        "  z=x*y\n",
        "  z=np.sum(z)\n",
        "  Temp=int(input(\"Temperature\"))\n",
        "  if Temp!=0 and Temp!=1:\n",
        "    po=-z/Temp\n",
        "    prob=1/1+(2.7)^po\n",
        "  pj="
      ],
      "execution_count": null,
      "outputs": []
    },
    {
      "cell_type": "markdown",
      "metadata": {
        "id": "kgVvLrj2-ZXT"
      },
      "source": [
        "**Main Menu**"
      ]
    },
    {
      "cell_type": "code",
      "metadata": {
        "colab": {
          "base_uri": "https://localhost:8080/",
          "height": 578
        },
        "id": "EfjCRzPtDDxE",
        "outputId": "c2995860-6bc7-49ee-85d0-7000b1006718"
      },
      "source": [
        "def main():\n",
        "  print(\"Please specify the operation:\")\n",
        "  print(\"0 -Binary Threshold Function\")\n",
        "  print(\"1 -Bipolar Function\")\n",
        "  print(\"2 -Linear Activation Function\")\n",
        "  print(\"3 -Linear Threshold Function\")\n",
        "  print(\"4 -RELU\")\n",
        "  print(\"5 -Leaky RELU\")\n",
        "  print(\"6 -Sigmoid Threshold Function\")\n",
        "  print(\"7 -TANH Signal Function\")\n",
        "  print(\"8 -Gaussian Signal Function\")\n",
        "  print(\"9 -Stochastic Signal Function\")\n",
        "\n",
        "  n = int(input())\n",
        "\n",
        "  if n==0:\n",
        "    result=BTSF()\n",
        "    \n",
        "  if n==1:\n",
        "    BTSF0()\n",
        "\n",
        "  if n==2:\n",
        "    LSF()\n",
        "\n",
        "  if n==3:\n",
        "    result = LTSF()\n",
        "\n",
        "  if n==4:\n",
        "    result = RELU()\n",
        "\n",
        "  if n==5:\n",
        "    LeakyRELU()\n",
        "     \n",
        "  if n==6:\n",
        "    sigmoidSF()\n",
        "\n",
        "  if n==7:\n",
        "    tanhSF()\n",
        "    \n",
        "  if n==8:\n",
        "    result = gaussianSF()\n",
        "      \n",
        "  if n==9:\n",
        "    print(\"Under Construction\")    \n",
        "  return \n",
        "main()"
      ],
      "execution_count": null,
      "outputs": [
        {
          "output_type": "stream",
          "text": [
            "Please specify the operation:\n",
            "0 -Binary Threshold Function\n",
            "1 -Bipolar Function\n",
            "2 -Linear Activation Function\n",
            "3 -Linear Threshold Function\n",
            "4 -RELU\n",
            "5 -Leaky RELU\n",
            "6 -Sigmoid Threshold Function\n",
            "7 -TANH Signal Function\n",
            "8 -Gaussian Signal Function\n",
            "9 -Stochastic Signal Function\n",
            "8\n",
            "Center:1\n",
            "Gaussian Spread Factor:2\n",
            "W:0.1 1 0\n",
            "S:1 1.1 1\n",
            "Bias:0.5\n",
            "The Gaussian signal is : 0.9405880633643421\n"
          ],
          "name": "stdout"
        },
        {
          "output_type": "display_data",
          "data": {
            "image/png": "[encoded data removed]",
            "text/plain": [
              "<Figure size 432x288 with 1 Axes>"
            ]
          },
          "metadata": {
            "tags": [],
            "needs_background": "light"
          }
        }
      ]
    }
  ]
}