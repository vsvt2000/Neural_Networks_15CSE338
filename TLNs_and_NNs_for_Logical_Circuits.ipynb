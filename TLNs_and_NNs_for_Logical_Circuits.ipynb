{
  "nbformat": 4,
  "nbformat_minor": 0,
  "metadata": {
    "colab": {
      "name": "Group6_Assignment2.ipynb",
      "provenance": [],
      "collapsed_sections": [],
      "toc_visible": true,
      "include_colab_link": true
    },
    "kernelspec": {
      "display_name": "Python 3",
      "name": "python3"
    }
  },
  "cells": [
    {
      "cell_type": "markdown",
      "metadata": {
        "id": "view-in-github",
        "colab_type": "text"
      },
      "source": [
        "<a href=\"https://colab.research.google.com/github/vsvt2000/Neural_Networks_15CSE338/blob/main/TLNs_and_NNs_for_Logical_Circuits.ipynb\" target=\"_parent\"><img src=\"https://colab.research.google.com/assets/colab-badge.svg\" alt=\"Open In Colab\"/></a>"
      ]
    },
    {
      "cell_type": "markdown",
      "metadata": {
        "id": "9g-ymFhn-5o2"
      },
      "source": [
        "# Libraries"
      ]
    },
    {
      "cell_type": "code",
      "metadata": {
        "colab": {
          "base_uri": "https://localhost:8080/"
        },
        "id": "FRyQYxJn1cA7",
        "outputId": "51bc97aa-6834-4b25-d206-3f0acc47df0e"
      },
      "source": [
        "import keras\n",
        "import pandas as pd\n",
        "from keras.layers import Dense\n",
        "import numpy as np\n",
        "from keras.utils.vis_utils import plot_model\n",
        "!pip3 install keras-visualizer\n",
        "!pip install vpython\n",
        "from keras_visualizer import visualizer\n",
        "import matplotlib.pyplot as plt\n",
        "from vpython import *"
      ],
      "execution_count": null,
      "outputs": [
        {
          "output_type": "stream",
          "text": [
            "Collecting keras-visualizer\n",
            "  Downloading https://files.pythonhosted.org/packages/7f/33/d95aabf4a19ba02d6800f9f7b34d614b1bfa1f2da2b08a0897df08d2cfc4/keras_visualizer-2.4-py3-none-any.whl\n",
            "Installing collected packages: keras-visualizer\n",
            "Successfully installed keras-visualizer-2.4\n",
            "Collecting vpython\n",
            "\u001b[?25l  Downloading https://files.pythonhosted.org/packages/48/12/f5dc7711642693d8cef919c1ab1f85dc3aa15b53d63588d8635adefdb752/vpython-7.6.1-cp37-cp37m-manylinux1_x86_64.whl (3.7MB)\n",
            "\u001b[K     |████████████████████████████████| 3.7MB 5.4MB/s \n",
            "\u001b[?25hCollecting jupyter-server-proxy\n",
            "  Downloading https://files.pythonhosted.org/packages/f1/19/0b68fdfb2179a217fe48a6da25936920726637c21bd97608bc60ef749c6a/jupyter_server_proxy-1.6.0-py3-none-any.whl\n",
            "Requirement already satisfied: ipykernel in /usr/local/lib/python3.7/dist-packages (from vpython) (4.10.1)\n",
            "Collecting autobahn\n",
            "\u001b[?25l  Downloading https://files.pythonhosted.org/packages/f0/8b/816e29fdcb249c3ce8e7e4c16f0547b0255c5f4c9a6cb88c2c91b7d8b202/autobahn-21.3.1-py2.py3-none-any.whl (495kB)\n",
            "\u001b[K     |████████████████████████████████| 501kB 37.7MB/s \n",
            "\u001b[?25hRequirement already satisfied: numpy in /usr/local/lib/python3.7/dist-packages (from vpython) (1.19.5)\n",
            "Requirement already satisfied: jupyter in /usr/local/lib/python3.7/dist-packages (from vpython) (1.0.0)\n",
            "Requirement already satisfied: notebook in /usr/local/lib/python3.7/dist-packages (from jupyter-server-proxy->vpython) (5.3.1)\n",
            "Collecting simpervisor>=0.4\n",
            "  Downloading https://files.pythonhosted.org/packages/91/bb/61db1f8e008a4dcd668e8be37bd29a2f3dbd615f503686649c82fc3e544b/simpervisor-0.4-py3-none-any.whl\n",
            "Collecting aiohttp\n",
            "\u001b[?25l  Downloading https://files.pythonhosted.org/packages/5b/a6/d36302eba284f4f427dc288f6b3ecd7f89d739cfca206b80311d3158f6d9/aiohttp-3.7.4-cp37-cp37m-manylinux2014_x86_64.whl (1.3MB)\n",
            "\u001b[K     |████████████████████████████████| 1.3MB 37.4MB/s \n",
            "\u001b[?25hRequirement already satisfied: ipython>=4.0.0 in /usr/local/lib/python3.7/dist-packages (from ipykernel->vpython) (5.5.0)\n",
            "Requirement already satisfied: tornado>=4.0 in /usr/local/lib/python3.7/dist-packages (from ipykernel->vpython) (5.1.1)\n",
            "Requirement already satisfied: traitlets>=4.1.0 in /usr/local/lib/python3.7/dist-packages (from ipykernel->vpython) (5.0.5)\n",
            "Requirement already satisfied: jupyter-client in /usr/local/lib/python3.7/dist-packages (from ipykernel->vpython) (5.3.5)\n",
            "Collecting txaio>=21.2.1\n",
            "  Downloading https://files.pythonhosted.org/packages/55/53/c9b89497ba46395bbf84a8c511550626cc5c507c0b76680df54435553e53/txaio-21.2.1-py2.py3-none-any.whl\n",
            "Collecting hyperlink>=21.0.0\n",
            "\u001b[?25l  Downloading https://files.pythonhosted.org/packages/6e/aa/8caf6a0a3e62863cbb9dab27135660acba46903b703e224f14f447e57934/hyperlink-21.0.0-py2.py3-none-any.whl (74kB)\n",
            "\u001b[K     |████████████████████████████████| 81kB 9.9MB/s \n",
            "\u001b[?25hCollecting cryptography>=3.4.6\n",
            "\u001b[?25l  Downloading https://files.pythonhosted.org/packages/f8/1f/acde6ff69864c5e78b56488e3afd93c1ccc8c2651186e2a5f93d93f64859/cryptography-3.4.6-cp36-abi3-manylinux2014_x86_64.whl (3.2MB)\n",
            "\u001b[K     |████████████████████████████████| 3.2MB 46.1MB/s \n",
            "\u001b[?25hRequirement already satisfied: qtconsole in /usr/local/lib/python3.7/dist-packages (from jupyter->vpython) (5.0.2)\n",
            "Requirement already satisfied: ipywidgets in /usr/local/lib/python3.7/dist-packages (from jupyter->vpython) (7.6.3)\n",
            "Requirement already satisfied: nbconvert in /usr/local/lib/python3.7/dist-packages (from jupyter->vpython) (5.6.1)\n",
            "Requirement already satisfied: jupyter-console in /usr/local/lib/python3.7/dist-packages (from jupyter->vpython) (5.2.0)\n",
            "Requirement already satisfied: nbformat in /usr/local/lib/python3.7/dist-packages (from notebook->jupyter-server-proxy->vpython) (5.1.2)\n",
            "Requirement already satisfied: ipython-genutils in /usr/local/lib/python3.7/dist-packages (from notebook->jupyter-server-proxy->vpython) (0.2.0)\n",
            "Requirement already satisfied: jinja2 in /usr/local/lib/python3.7/dist-packages (from notebook->jupyter-server-proxy->vpython) (2.11.3)\n",
            "Requirement already satisfied: terminado>=0.8.1 in /usr/local/lib/python3.7/dist-packages (from notebook->jupyter-server-proxy->vpython) (0.9.2)\n",
            "Requirement already satisfied: jupyter-core>=4.4.0 in /usr/local/lib/python3.7/dist-packages (from notebook->jupyter-server-proxy->vpython) (4.7.1)\n",
            "Requirement already satisfied: Send2Trash in /usr/local/lib/python3.7/dist-packages (from notebook->jupyter-server-proxy->vpython) (1.5.0)\n",
            "Requirement already satisfied: typing-extensions>=3.6.5 in /usr/local/lib/python3.7/dist-packages (from aiohttp->jupyter-server-proxy->vpython) (3.7.4.3)\n",
            "Requirement already satisfied: attrs>=17.3.0 in /usr/local/lib/python3.7/dist-packages (from aiohttp->jupyter-server-proxy->vpython) (20.3.0)\n",
            "Collecting yarl<2.0,>=1.0\n",
            "\u001b[?25l  Downloading https://files.pythonhosted.org/packages/f1/62/046834c5fc998c88ab2ef722f5d42122230a632212c8afa76418324f53ff/yarl-1.6.3-cp37-cp37m-manylinux2014_x86_64.whl (294kB)\n",
            "\u001b[K     |████████████████████████████████| 296kB 31.8MB/s \n",
            "\u001b[?25hCollecting async-timeout<4.0,>=3.0\n",
            "  Downloading https://files.pythonhosted.org/packages/e1/1e/5a4441be21b0726c4464f3f23c8b19628372f606755a9d2e46c187e65ec4/async_timeout-3.0.1-py3-none-any.whl\n",
            "Requirement already satisfied: chardet<4.0,>=2.0 in /usr/local/lib/python3.7/dist-packages (from aiohttp->jupyter-server-proxy->vpython) (3.0.4)\n",
            "Collecting multidict<7.0,>=4.5\n",
            "\u001b[?25l  Downloading https://files.pythonhosted.org/packages/7c/a6/4123b8165acbe773d1a8dc8e3f0d1edea16d29f7de018eda769abb56bd30/multidict-5.1.0-cp37-cp37m-manylinux2014_x86_64.whl (142kB)\n",
            "\u001b[K     |████████████████████████████████| 143kB 32.4MB/s \n",
            "\u001b[?25hRequirement already satisfied: setuptools>=18.5 in /usr/local/lib/python3.7/dist-packages (from ipython>=4.0.0->ipykernel->vpython) (54.0.0)\n",
            "Requirement already satisfied: pygments in /usr/local/lib/python3.7/dist-packages (from ipython>=4.0.0->ipykernel->vpython) (2.6.1)\n",
            "Requirement already satisfied: prompt-toolkit<2.0.0,>=1.0.4 in /usr/local/lib/python3.7/dist-packages (from ipython>=4.0.0->ipykernel->vpython) (1.0.18)\n",
            "Requirement already satisfied: pickleshare in /usr/local/lib/python3.7/dist-packages (from ipython>=4.0.0->ipykernel->vpython) (0.7.5)\n",
            "Requirement already satisfied: simplegeneric>0.8 in /usr/local/lib/python3.7/dist-packages (from ipython>=4.0.0->ipykernel->vpython) (0.8.1)\n",
            "Requirement already satisfied: decorator in /usr/local/lib/python3.7/dist-packages (from ipython>=4.0.0->ipykernel->vpython) (4.4.2)\n",
            "Requirement already satisfied: pexpect; sys_platform != \"win32\" in /usr/local/lib/python3.7/dist-packages (from ipython>=4.0.0->ipykernel->vpython) (4.8.0)\n",
            "Requirement already satisfied: pyzmq>=13 in /usr/local/lib/python3.7/dist-packages (from jupyter-client->ipykernel->vpython) (22.0.3)\n",
            "Requirement already satisfied: python-dateutil>=2.1 in /usr/local/lib/python3.7/dist-packages (from jupyter-client->ipykernel->vpython) (2.8.1)\n",
            "Requirement already satisfied: idna>=2.5 in /usr/local/lib/python3.7/dist-packages (from hyperlink>=21.0.0->autobahn->vpython) (2.10)\n",
            "Requirement already satisfied: cffi>=1.12 in /usr/local/lib/python3.7/dist-packages (from cryptography>=3.4.6->autobahn->vpython) (1.14.5)\n",
            "Requirement already satisfied: qtpy in /usr/local/lib/python3.7/dist-packages (from qtconsole->jupyter->vpython) (1.9.0)\n",
            "Requirement already satisfied: jupyterlab-widgets>=1.0.0; python_version >= \"3.6\" in /usr/local/lib/python3.7/dist-packages (from ipywidgets->jupyter->vpython) (1.0.0)\n",
            "Requirement already satisfied: widgetsnbextension~=3.5.0 in /usr/local/lib/python3.7/dist-packages (from ipywidgets->jupyter->vpython) (3.5.1)\n",
            "Requirement already satisfied: bleach in /usr/local/lib/python3.7/dist-packages (from nbconvert->jupyter->vpython) (3.3.0)\n",
            "Requirement already satisfied: mistune<2,>=0.8.1 in /usr/local/lib/python3.7/dist-packages (from nbconvert->jupyter->vpython) (0.8.4)\n",
            "Requirement already satisfied: entrypoints>=0.2.2 in /usr/local/lib/python3.7/dist-packages (from nbconvert->jupyter->vpython) (0.3)\n",
            "Requirement already satisfied: defusedxml in /usr/local/lib/python3.7/dist-packages (from nbconvert->jupyter->vpython) (0.6.0)\n",
            "Requirement already satisfied: testpath in /usr/local/lib/python3.7/dist-packages (from nbconvert->jupyter->vpython) (0.4.4)\n",
            "Requirement already satisfied: pandocfilters>=1.4.1 in /usr/local/lib/python3.7/dist-packages (from nbconvert->jupyter->vpython) (1.4.3)\n",
            "Requirement already satisfied: jsonschema!=2.5.0,>=2.4 in /usr/local/lib/python3.7/dist-packages (from nbformat->notebook->jupyter-server-proxy->vpython) (2.6.0)\n",
            "Requirement already satisfied: MarkupSafe>=0.23 in /usr/local/lib/python3.7/dist-packages (from jinja2->notebook->jupyter-server-proxy->vpython) (1.1.1)\n",
            "Requirement already satisfied: ptyprocess; os_name != \"nt\" in /usr/local/lib/python3.7/dist-packages (from terminado>=0.8.1->notebook->jupyter-server-proxy->vpython) (0.7.0)\n",
            "Requirement already satisfied: wcwidth in /usr/local/lib/python3.7/dist-packages (from prompt-toolkit<2.0.0,>=1.0.4->ipython>=4.0.0->ipykernel->vpython) (0.2.5)\n",
            "Requirement already satisfied: six>=1.9.0 in /usr/local/lib/python3.7/dist-packages (from prompt-toolkit<2.0.0,>=1.0.4->ipython>=4.0.0->ipykernel->vpython) (1.15.0)\n",
            "Requirement already satisfied: pycparser in /usr/local/lib/python3.7/dist-packages (from cffi>=1.12->cryptography>=3.4.6->autobahn->vpython) (2.20)\n",
            "Requirement already satisfied: packaging in /usr/local/lib/python3.7/dist-packages (from bleach->nbconvert->jupyter->vpython) (20.9)\n",
            "Requirement already satisfied: webencodings in /usr/local/lib/python3.7/dist-packages (from bleach->nbconvert->jupyter->vpython) (0.5.1)\n",
            "Requirement already satisfied: pyparsing>=2.0.2 in /usr/local/lib/python3.7/dist-packages (from packaging->bleach->nbconvert->jupyter->vpython) (2.4.7)\n",
            "Installing collected packages: simpervisor, multidict, yarl, async-timeout, aiohttp, jupyter-server-proxy, txaio, hyperlink, cryptography, autobahn, vpython\n",
            "Successfully installed aiohttp-3.7.4 async-timeout-3.0.1 autobahn-21.3.1 cryptography-3.4.6 hyperlink-21.0.0 jupyter-server-proxy-1.6.0 multidict-5.1.0 simpervisor-0.4 txaio-21.2.1 vpython-7.6.1 yarl-1.6.3\n"
          ],
          "name": "stdout"
        }
      ]
    },
    {
      "cell_type": "markdown",
      "metadata": {
        "id": "IF2lRd-1R4lA"
      },
      "source": [
        "# PLOT FUNCTIONS"
      ]
    },
    {
      "cell_type": "code",
      "metadata": {
        "id": "2IzE-cmdS9GW"
      },
      "source": [
        "def plot_gate(X,y):\n",
        "  fig, ax = plt.subplots()\n",
        "  xmin, xmax = -0.2, 1.4\n",
        "  ct0=0\n",
        "  ct1=0\n",
        "  x0=-1\n",
        "  y0=-1\n",
        "  x1=-1\n",
        "  y1=-1\n",
        "  for index, row in X.iterrows():\n",
        "    if(y['y'][index]==0):\n",
        "      ax.scatter(row['x1'], row['x2'],color=\"red\")\n",
        "      ct0+=1\n",
        "      x0=row['x1']\n",
        "      y0=row['x2']\n",
        "    else:\n",
        "      ax.scatter(row['x1'], row['x2'],color=\"green\")\n",
        "      ct1+=1\n",
        "      x1=row['x1']\n",
        "      y1=row['x2']\n",
        "  pX = np.arange(xmin, xmax, 0.1)\n",
        "  ax.set_xlim([xmin, xmax])\n",
        "  ax.set_ylim([-0.1, 1.1])\n",
        "  if((ct0==1)or(ct1==1)):\n",
        "    if ct0==1 :\n",
        "      ptX=x0\n",
        "      ptY=y0\n",
        "    else:\n",
        "      ptX=x1\n",
        "      ptY=y1\n",
        "  #print(ptX,ptY)\n",
        "  if ((ptX==0)and(ptY==0)):\n",
        "    m, c = -1, 0.8\n",
        "  elif ((ptX==0)and(ptY==1)):\n",
        "    m, c = 1, 0.2\n",
        "  elif ((ptX==1)and(ptY==0)):\n",
        "    m, c = 1, -0.2\n",
        "  else:\n",
        "    m, c = -1, 1.2\n",
        "  ax.plot(pX, m * pX + c )\n",
        "  plt.plot()"
      ],
      "execution_count": null,
      "outputs": []
    },
    {
      "cell_type": "code",
      "metadata": {
        "id": "ZlXW54G43uxh"
      },
      "source": [
        "def visualise_xor_xnor():\n",
        "  scene.center= vector(1,1,0)\n",
        "  x_axis = arrow(pos = vector(0,0,0) , axis = vector(2,0,0), shaftwidth = 0.01)\n",
        "  y_axis = arrow(pos = vector(0,0,0) , axis = vector(0,2,0), shaftwidth = 0.01)\n",
        "  y_axis = arrow(pos = vector(0,0,0) , axis = vector(0,0,2), shaftwidth = 0.01)\n",
        "  p = points(pos=[vector(0,0,0), vector(1,1,1)], radius=5, color=color.red)\n",
        "  p = points(pos=[vector(0,1,0),vector(1,0,0)], radius=5, color=color.yellow)\n",
        "  box(pos = vector(0.5,0.5,0.5), size=vector(1,1,1), color = color.green, opacity=0.5)\n",
        "  a1 = vertex( pos=vec(0,0.5,0) )\n",
        "  a2 = vertex( pos=vec(0.5,0,0) )\n",
        "  a3 = vertex( pos=vec(1,0,0.5) )\n",
        "  a4 = vertex( pos=vec(0,1,0.5) )\n",
        "  a5 = vertex( pos=vec(1,1,0.5) )\n",
        "  T = triangle( vs=[a1,a2,a3] ) \n",
        "  Q = quad( vs=[a3,a1,a4,a5] ) "
      ],
      "execution_count": null,
      "outputs": []
    },
    {
      "cell_type": "code",
      "metadata": {
        "id": "m71FMOe02qyi"
      },
      "source": [
        "def vis_neural_net(k, input_dim):\n",
        "  scene.center = vector(2,0,0)\n",
        "  \"\"\"\n",
        "  Sample Input:\n",
        "  w1 = [[5,5,-5],[-5,5,5]]\n",
        "  b1 = [0,-15,0]\n",
        "  w2 = [[5],[ -15],[5]]\n",
        "  b2 = [-5]\n",
        "  k = [w1, b1,w2, b2]\n",
        "  input_dim = 2\n",
        "  \"\"\"\n",
        "  hidden_layers = []\n",
        "  hidden_layers.append([])\n",
        "\n",
        "  m  = len(k)/2\n",
        "\n",
        "  x_pos = 0\n",
        "\n",
        "  colors = [color.green, color.yellow, color.blue, color.red, color.orange]\n",
        "\n",
        "  for i in range(input_dim):\n",
        "    y_pos = -input_dim + 1 + 2*i\n",
        "    hidden_layers[0].append(cylinder(pos=vector(x_pos,y_pos,0), axis= vector(0,0,0.1), color = colors[0], radius = 0.5))\n",
        "    \n",
        "  for j in range(m):\n",
        "    x_pos = 2*(j+1)\n",
        "    hidden_layers.append([])\n",
        "    n = len(k[j*2+1])\n",
        "    start_y = -n + 1\n",
        "    for i in range(n):\n",
        "      y_pos = start_y+2*i\n",
        "      hidden_layers[j+1].append(cylinder(pos=vector(x_pos,y_pos,0), axis= vector(0,0,0.1), color = colors[j+1], radius = 0.5))\n",
        "\n",
        "  input_arrows = []\n",
        "  input_text = []\n",
        "  for i in range(len(hidden_layers[0])):\n",
        "    start_pos = hidden_layers[0][i].pos+ vector(-0.75,0,0)\n",
        "    text_pos = start_pos + vector(-0.25,0,0)\n",
        "    axi = vector(0.25,0,0)\n",
        "    input_arrows.append(arrow(pos=start_pos,axis = axi, shaftwidth = 0.025))\n",
        "    input_text.append(text(text = 'x'+ str(i+1), pos = text_pos, align = 'center', height = 0.2, color = color.red))\n",
        "\n",
        "  start_pos = hidden_layers[-1][0].pos + vector(0.5,0,0)\n",
        "  text_pos = start_pos + vector(0.25,0,0)\n",
        "  axi = vector(0.25,0,0)\n",
        "  output_arrow = arrow(pos=start_pos,axis = axi, shaftwidth = 0.025)\n",
        "  output_text = text(text = 'S', pos = text_pos, align = 'center', height = 0.2, color = color.red)\n",
        "\n",
        "  bias_arrows = []\n",
        "  bias_text = []\n",
        "  for i in range(1,m+1):\n",
        "    bias_arrows.append([])\n",
        "    bias_text.append([])\n",
        "    n = len(hidden_layers[i])\n",
        "    for j in range(n):\n",
        "      start_pos = hidden_layers[i][j].pos + vector(0,0.75,0)\n",
        "      text_pos = start_pos\n",
        "      axi = vector(0,-0.25,0)\n",
        "      bias_arrows[i-1].append(arrow(pos=start_pos,axis = axi, shaftwidth = 0.02))\n",
        "      bias_text[i-1].append(text(text=str(k[2*i-1][j]), align='center', pos = text_pos, height = 0.2, color = color.red))\n",
        "        \n",
        "  weight_arrows = []\n",
        "  weight_text = []\n",
        "  for i in range(1,m+1):\n",
        "    weight_arrows.append([])\n",
        "    weight_text.append([])\n",
        "    if i==m:\n",
        "      n2 = 1\n",
        "    else:\n",
        "      n2 = len(k[i*2])\n",
        "    n1 = len(k[i*2-2])\n",
        "    print(n1,n2)\n",
        "    for i1 in range(n1):\n",
        "      weight_arrows[i-1].append([])\n",
        "      weight_text[i-1].append([])\n",
        "      for i2 in range(n2):\n",
        "        start_pos = hidden_layers[i-1][i1].pos\n",
        "        end_pos = hidden_layers[i][i2].pos\n",
        "        axi = end_pos-start_pos\n",
        "            \n",
        "        mid_pos = (4*start_pos + 3*end_pos)/7\n",
        "        text_pos = mid_pos\n",
        "        text_weight = str(k[i*2-2][i1][i2])\n",
        "            \n",
        "        weight_arrows[i-1][i1].append(arrow(pos=start_pos,axis = axi, shaftwidth = 0.02))\n",
        "        weight_text[i-1][i1].append(text(text=text_weight, pos = text_pos, align = 'center', height = 0.2, color = color.red))"
      ],
      "execution_count": null,
      "outputs": []
    },
    {
      "cell_type": "code",
      "metadata": {
        "id": "uhvROICtxE3d"
      },
      "source": [
        "def vis_TLN(k, input_dim):\n",
        "  scene.center = vector(2,0,0)\n",
        "  \"\"\"\n",
        "  Sample Input:\n",
        "  w1 = [[5,5,-5],[-5,5,5]]\n",
        "  b1 = [0,-15,0]\n",
        "  w2 = [[5],[ -15],[5]]\n",
        "  b2 = [-5]\n",
        "  k = [w1, b1,w2, b2]\n",
        "  input_dim = 2\n",
        "  \"\"\"\n",
        "  hidden_layers = []\n",
        "  hidden_layers.append([])\n",
        "\n",
        "  m  = len(k)/2\n",
        "\n",
        "  x_pos = 0\n",
        "\n",
        "  colors = [color.green, color.yellow, color.blue, color.red, color.orange]\n",
        "\n",
        "  for i in range(input_dim):\n",
        "    y_pos = -input_dim + 1 + 2*i\n",
        "    hidden_layers[0].append(cylinder(pos=vector(x_pos,y_pos,0), axis= vector(0,0,0.1), color = colors[0], radius = 0.5), opacity = 0)\n",
        "    \n",
        "  for j in range(m):\n",
        "    x_pos = 2*(j+1)\n",
        "    hidden_layers.append([])\n",
        "    n = len(k[j*2+1])\n",
        "    start_y = -n + 1\n",
        "    for i in range(n):\n",
        "      y_pos = start_y+2*i\n",
        "      hidden_layers[j+1].append(cylinder(pos=vector(x_pos,y_pos,0), axis= vector(0,0,0.1), color = colors[j+1], radius = 0.5))\n",
        "\n",
        "  input_arrows = []\n",
        "  input_text = []\n",
        "  for i in range(len(hidden_layers[0])):\n",
        "    start_pos = hidden_layers[0][i].pos+ vector(-0.75,0,0)\n",
        "    text_pos = start_pos + vector(0.75,0,0)\n",
        "    axi = vector(0.25,0,0)\n",
        "    input_arrows.append(arrow(pos=start_pos,axis = axi, shaftwidth = 0.025, opacity = 0))\n",
        "    input_text.append(text(text = 'x'+ str(i+1), pos = text_pos, align = 'center', height = 0.2, color = color.red))\n",
        "\n",
        "  start_pos = hidden_layers[-1][0].pos + vector(0.5,0,0)\n",
        "  text_pos = start_pos + vector(0.25,0,0)\n",
        "  axi = vector(0.25,0,0)\n",
        "  output_arrow = arrow(pos=start_pos,axis = axi, shaftwidth = 0.025)\n",
        "  output_text = text(text = 'S', pos = text_pos, align = 'center', height = 0.2, color = color.red)\n",
        "\n",
        "  bias_arrows = []\n",
        "  bias_text = []\n",
        "  for i in range(1,m+1):\n",
        "    bias_arrows.append([])\n",
        "    bias_text.append([])\n",
        "    n = len(hidden_layers[i])\n",
        "    for j in range(n):\n",
        "      start_pos = hidden_layers[i][j].pos + vector(0,0.75,0)\n",
        "      text_pos = start_pos\n",
        "      axi = vector(0,-0.25,0)\n",
        "      bias_arrows[i-1].append(arrow(pos=start_pos,axis = axi, shaftwidth = 0.02))\n",
        "      bias_text[i-1].append(text(text=str(k[2*i-1][j]), align='center', pos = text_pos, height = 0.2, color = color.red))\n",
        "        \n",
        "  weight_arrows = []\n",
        "  weight_text = []\n",
        "  for i in range(1,m+1):\n",
        "    weight_arrows.append([])\n",
        "    weight_text.append([])\n",
        "    if i==m:\n",
        "      n2 = 1\n",
        "    else:\n",
        "      n2 = len(k[i*2])\n",
        "    n1 = len(k[i*2-2])\n",
        "    print(n1,n2)\n",
        "    for i1 in range(n1):\n",
        "      weight_arrows[i-1].append([])\n",
        "      weight_text[i-1].append([])\n",
        "      for i2 in range(n2):\n",
        "        start_pos = hidden_layers[i-1][i1].pos\n",
        "        end_pos = hidden_layers[i][i2].pos\n",
        "        axi = end_pos-start_pos\n",
        "            \n",
        "        mid_pos = (4*start_pos + 3*end_pos)/7\n",
        "        text_pos = mid_pos\n",
        "        text_weight = str(k[i*2-2][i1][i2])\n",
        "            \n",
        "        weight_arrows[i-1][i1].append(arrow(pos=start_pos,axis = axi, shaftwidth = 0.02))\n",
        "        weight_text[i-1][i1].append(text(text=text_weight, pos = text_pos, align = 'center', height = 0.2, color = color.red))"
      ],
      "execution_count": null,
      "outputs": []
    },
    {
      "cell_type": "markdown",
      "metadata": {
        "id": "0qw17kYh_Auo"
      },
      "source": [
        "# TRANSFER\n"
      ]
    },
    {
      "cell_type": "code",
      "metadata": {
        "colab": {
          "base_uri": "https://localhost:8080/"
        },
        "id": "h9DkoDuxVz2e",
        "outputId": "c3b2f9df-1043-498f-d38e-2aad05089123"
      },
      "source": [
        "#TRANSFER\n",
        "X = pd.DataFrame([[0],[1]], columns = ['x'])\n",
        "y = pd.DataFrame([[0],[1]],columns = ['y'])\n",
        "model = keras.Sequential()\n",
        "model.add(Dense(1, input_dim=1, activation='relu'))\n",
        "w1 = np.array([[1]],np.float32) #hidden layer weights n*m : n- input dimension ; m -number of layers \n",
        "#print(w1.shape)\n",
        "b1 = np.array([-0.25], np.float32) #hidden layer bias m*1 : m- number of layers\n",
        "model.set_weights([w1, b1])\n",
        "model.get_weights()\n",
        "res=model.predict_classes(X)\n",
        "X['y']=res\n",
        "print(X)\n"
      ],
      "execution_count": null,
      "outputs": [
        {
          "output_type": "stream",
          "text": [
            "WARNING:tensorflow:7 out of the last 7 calls to <function Model.make_predict_function.<locals>.predict_function at 0x7f454c8ac9e0> triggered tf.function retracing. Tracing is expensive and the excessive number of tracings could be due to (1) creating @tf.function repeatedly in a loop, (2) passing tensors with different shapes, (3) passing Python objects instead of tensors. For (1), please define your @tf.function outside of the loop. For (2), @tf.function has experimental_relax_shapes=True option that relaxes argument shapes that can avoid unnecessary retracing. For (3), please refer to https://www.tensorflow.org/guide/function#controlling_retracing and https://www.tensorflow.org/api_docs/python/tf/function for  more details.\n",
            "   x  y\n",
            "0  0  0\n",
            "1  1  1\n"
          ],
          "name": "stdout"
        },
        {
          "output_type": "stream",
          "text": [
            "/usr/local/lib/python3.7/dist-packages/tensorflow/python/keras/engine/sequential.py:450: UserWarning: `model.predict_classes()` is deprecated and will be removed after 2021-01-01. Please use instead:* `np.argmax(model.predict(x), axis=-1)`,   if your model does multi-class classification   (e.g. if it uses a `softmax` last-layer activation).* `(model.predict(x) > 0.5).astype(\"int32\")`,   if your model does binary classification   (e.g. if it uses a `sigmoid` last-layer activation).\n",
            "  warnings.warn('`model.predict_classes()` is deprecated and '\n"
          ],
          "name": "stderr"
        }
      ]
    },
    {
      "cell_type": "markdown",
      "metadata": {
        "id": "ouy80lQW_HBI"
      },
      "source": [
        "# IDENTITY"
      ]
    },
    {
      "cell_type": "code",
      "metadata": {
        "colab": {
          "base_uri": "https://localhost:8080/"
        },
        "id": "JYf9o3jUez8n",
        "outputId": "01a8a71d-e852-4a6e-e872-a2ab59a8ccdf"
      },
      "source": [
        "#IDENTITY\n",
        "X = pd.DataFrame([[0],[1]], columns = ['x'])\n",
        "y = pd.DataFrame([[1],[1]],columns = ['y'])\n",
        "model = keras.Sequential()\n",
        "model.add(Dense(1, input_dim=1, activation='relu'))\n",
        "w1 = np.array([[1]],np.float32) #hidden layer weights n*m : n- input dimension ; m -number of layers \n",
        "#print(w1.shape)\n",
        "b1 = np.array([0.75], np.float32) #hidden layer bias m*1 : m- number of layers\n",
        "#print(b1.shape)\n",
        "model.set_weights([w1, b1])\n",
        "model.get_weights()\n",
        "X['y']=model.predict_classes(X)\n",
        "print(X)"
      ],
      "execution_count": null,
      "outputs": [
        {
          "output_type": "stream",
          "text": [
            "WARNING:tensorflow:5 out of the last 5 calls to <function Model.make_predict_function.<locals>.predict_function at 0x7f454510c950> triggered tf.function retracing. Tracing is expensive and the excessive number of tracings could be due to (1) creating @tf.function repeatedly in a loop, (2) passing tensors with different shapes, (3) passing Python objects instead of tensors. For (1), please define your @tf.function outside of the loop. For (2), @tf.function has experimental_relax_shapes=True option that relaxes argument shapes that can avoid unnecessary retracing. For (3), please refer to https://www.tensorflow.org/guide/function#controlling_retracing and https://www.tensorflow.org/api_docs/python/tf/function for  more details.\n",
            "   x  y\n",
            "0  0  1\n",
            "1  1  1\n"
          ],
          "name": "stdout"
        },
        {
          "output_type": "stream",
          "text": [
            "/usr/local/lib/python3.7/dist-packages/tensorflow/python/keras/engine/sequential.py:450: UserWarning: `model.predict_classes()` is deprecated and will be removed after 2021-01-01. Please use instead:* `np.argmax(model.predict(x), axis=-1)`,   if your model does multi-class classification   (e.g. if it uses a `softmax` last-layer activation).* `(model.predict(x) > 0.5).astype(\"int32\")`,   if your model does binary classification   (e.g. if it uses a `sigmoid` last-layer activation).\n",
            "  warnings.warn('`model.predict_classes()` is deprecated and '\n"
          ],
          "name": "stderr"
        }
      ]
    },
    {
      "cell_type": "markdown",
      "metadata": {
        "id": "JdzAD3PxGRAT"
      },
      "source": [
        "# NULL"
      ]
    },
    {
      "cell_type": "code",
      "metadata": {
        "colab": {
          "base_uri": "https://localhost:8080/"
        },
        "id": "Uprw8bedGZzP",
        "outputId": "555e6039-fe0e-4054-bd09-427006ce4f40"
      },
      "source": [
        "#NULL\n",
        "X = pd.DataFrame([[0],[1]], columns = ['x'])\n",
        "y = pd.DataFrame([[0],[0]],columns = ['y'])\n",
        "model = keras.Sequential()\n",
        "model.add(Dense(1, input_dim=1, activation='relu'))\n",
        "w1 = np.array([[1]],np.float32) #hidden layer weights n*m : n- input dimension ; m -number of layers \n",
        "#print(w1.shape)\n",
        "b1 = np.array([-1], np.float32) #hidden layer bias m*1 : m- number of layers\n",
        "#print(b1.shape)\n",
        "model.set_weights([w1, b1])\n",
        "model.get_weights()\n",
        "X['y']=model.predict_classes(X)\n",
        "print(X)"
      ],
      "execution_count": null,
      "outputs": [
        {
          "output_type": "stream",
          "text": [
            "WARNING:tensorflow:6 out of the last 6 calls to <function Model.make_predict_function.<locals>.predict_function at 0x7f454487fc20> triggered tf.function retracing. Tracing is expensive and the excessive number of tracings could be due to (1) creating @tf.function repeatedly in a loop, (2) passing tensors with different shapes, (3) passing Python objects instead of tensors. For (1), please define your @tf.function outside of the loop. For (2), @tf.function has experimental_relax_shapes=True option that relaxes argument shapes that can avoid unnecessary retracing. For (3), please refer to https://www.tensorflow.org/guide/function#controlling_retracing and https://www.tensorflow.org/api_docs/python/tf/function for  more details.\n",
            "   x  y\n",
            "0  0  0\n",
            "1  1  0\n"
          ],
          "name": "stdout"
        },
        {
          "output_type": "stream",
          "text": [
            "/usr/local/lib/python3.7/dist-packages/tensorflow/python/keras/engine/sequential.py:450: UserWarning: `model.predict_classes()` is deprecated and will be removed after 2021-01-01. Please use instead:* `np.argmax(model.predict(x), axis=-1)`,   if your model does multi-class classification   (e.g. if it uses a `softmax` last-layer activation).* `(model.predict(x) > 0.5).astype(\"int32\")`,   if your model does binary classification   (e.g. if it uses a `sigmoid` last-layer activation).\n",
            "  warnings.warn('`model.predict_classes()` is deprecated and '\n"
          ],
          "name": "stderr"
        }
      ]
    },
    {
      "cell_type": "markdown",
      "metadata": {
        "id": "gi-2QeOi_UBy"
      },
      "source": [
        "# NAND"
      ]
    },
    {
      "cell_type": "code",
      "metadata": {
        "colab": {
          "base_uri": "https://localhost:8080/",
          "height": 424
        },
        "id": "K7W2l9sO_bmF",
        "outputId": "1a8d9b0f-afcc-4200-8ea3-84f669972717"
      },
      "source": [
        "#nand\n",
        "X = pd.DataFrame([[0,0],[0,1],[1,0],[1,1]], columns = ['x1','x2'])\n",
        "y = pd.DataFrame([[1],[1],[1],[0]],columns = ['y'])\n",
        "model = keras.Sequential()\n",
        "model.add(Dense(1, input_dim=2, activation='relu'))\n",
        "w1 = np.array([[2],[2]],np.float32) #hidden layer weights n*m : n- input dimension ; m -number of layers \n",
        "#print(w1.shape)\n",
        "b1 = np.array([-1.5], np.float32) #hidden layer bias m*1 : m- number of layers\n",
        "#print(b1.shape)\n",
        "model.set_weights([w1, b1])\n",
        "model.get_weights()\n",
        "X2=X\n",
        "X2['x1 nand x2']=model.predict_classes(X)\n",
        "print(X2)\n",
        "plot_gate(X,y)\n"
      ],
      "execution_count": null,
      "outputs": [
        {
          "output_type": "stream",
          "text": [
            "WARNING:tensorflow:8 out of the last 8 calls to <function Model.make_predict_function.<locals>.predict_function at 0x7f4540ac0e60> triggered tf.function retracing. Tracing is expensive and the excessive number of tracings could be due to (1) creating @tf.function repeatedly in a loop, (2) passing tensors with different shapes, (3) passing Python objects instead of tensors. For (1), please define your @tf.function outside of the loop. For (2), @tf.function has experimental_relax_shapes=True option that relaxes argument shapes that can avoid unnecessary retracing. For (3), please refer to https://www.tensorflow.org/guide/function#controlling_retracing and https://www.tensorflow.org/api_docs/python/tf/function for  more details.\n"
          ],
          "name": "stdout"
        },
        {
          "output_type": "stream",
          "text": [
            "/usr/local/lib/python3.7/dist-packages/tensorflow/python/keras/engine/sequential.py:450: UserWarning: `model.predict_classes()` is deprecated and will be removed after 2021-01-01. Please use instead:* `np.argmax(model.predict(x), axis=-1)`,   if your model does multi-class classification   (e.g. if it uses a `softmax` last-layer activation).* `(model.predict(x) > 0.5).astype(\"int32\")`,   if your model does binary classification   (e.g. if it uses a `sigmoid` last-layer activation).\n",
            "  warnings.warn('`model.predict_classes()` is deprecated and '\n"
          ],
          "name": "stderr"
        },
        {
          "output_type": "stream",
          "text": [
            "   x1  x2  x1 nand x2\n",
            "0   0   0           0\n",
            "1   0   1           0\n",
            "2   1   0           0\n",
            "3   1   1           1\n"
          ],
          "name": "stdout"
        },
        {
          "output_type": "display_data",
          "data": {
            "image/png": "[encoded data removed]",
            "text/plain": [
              "<Figure size 432x288 with 1 Axes>"
            ]
          },
          "metadata": {
            "tags": [],
            "needs_background": "light"
          }
        }
      ]
    },
    {
      "cell_type": "markdown",
      "metadata": {
        "id": "rxeDUrbnCFAe"
      },
      "source": [
        "# AND"
      ]
    },
    {
      "cell_type": "code",
      "metadata": {
        "colab": {
          "base_uri": "https://localhost:8080/",
          "height": 520
        },
        "id": "e7rEOWF4rzU6",
        "outputId": "d63aab7a-d556-415e-a186-dcd2ccd27b1b"
      },
      "source": [
        "#AND\n",
        "\n",
        "# https://stackoverflow.com/questions/55643732/how-to-set-custom-weights-on-a-keras-sequential-model\n",
        "\n",
        "model = keras.Sequential()\n",
        "model.add(keras.layers.Dense(1,input_dim = 2, activation = 'sigmoid'))\n",
        "# create weights with the right shape, e.g.\n",
        "# weights = [np.random.rand(*w.shape) for w in model.get_weights()]\n",
        "X = pd.DataFrame([[0,0],[0,1],[1,0],[1,1]], columns = ['x1','x2'])\n",
        "y = pd.DataFrame([[0],[0],[0],[1]],columns = ['y'])\n",
        "# update\n",
        "w1 = [1]\n",
        "w2 = [1]\n",
        "b = np.array([-1.5], np.float32)\n",
        "w = np.array([w1,w2],np.float32)\n",
        "model.set_weights([w, b])\n",
        "model.get_weights()\n",
        "print(model.predict_classes(X))\n",
        "#visualizer(model, view=True)\n",
        "#visualizer(model, filename=\"xor\", format ='png', view=True)\n",
        "plot_gate(X,y)\n",
        "X['x1 and x2']=model.predict_classes(X)\n",
        "print(X)"
      ],
      "execution_count": null,
      "outputs": [
        {
          "output_type": "stream",
          "text": [
            "WARNING:tensorflow:11 out of the last 11 calls to <function Model.make_predict_function.<locals>.predict_function at 0x7fb0b462ecb0> triggered tf.function retracing. Tracing is expensive and the excessive number of tracings could be due to (1) creating @tf.function repeatedly in a loop, (2) passing tensors with different shapes, (3) passing Python objects instead of tensors. For (1), please define your @tf.function outside of the loop. For (2), @tf.function has experimental_relax_shapes=True option that relaxes argument shapes that can avoid unnecessary retracing. For (3), please refer to https://www.tensorflow.org/guide/function#controlling_retracing and https://www.tensorflow.org/api_docs/python/tf/function for  more details.\n"
          ],
          "name": "stdout"
        },
        {
          "output_type": "stream",
          "text": [
            "/usr/local/lib/python3.7/dist-packages/tensorflow/python/keras/engine/sequential.py:450: UserWarning: `model.predict_classes()` is deprecated and will be removed after 2021-01-01. Please use instead:* `np.argmax(model.predict(x), axis=-1)`,   if your model does multi-class classification   (e.g. if it uses a `softmax` last-layer activation).* `(model.predict(x) > 0.5).astype(\"int32\")`,   if your model does binary classification   (e.g. if it uses a `sigmoid` last-layer activation).\n",
            "  warnings.warn('`model.predict_classes()` is deprecated and '\n",
            "/usr/local/lib/python3.7/dist-packages/tensorflow/python/keras/engine/sequential.py:450: UserWarning: `model.predict_classes()` is deprecated and will be removed after 2021-01-01. Please use instead:* `np.argmax(model.predict(x), axis=-1)`,   if your model does multi-class classification   (e.g. if it uses a `softmax` last-layer activation).* `(model.predict(x) > 0.5).astype(\"int32\")`,   if your model does binary classification   (e.g. if it uses a `sigmoid` last-layer activation).\n",
            "  warnings.warn('`model.predict_classes()` is deprecated and '\n"
          ],
          "name": "stderr"
        },
        {
          "output_type": "stream",
          "text": [
            "[[0]\n",
            " [0]\n",
            " [0]\n",
            " [1]]\n",
            "   x1  x2  x1 and x2\n",
            "0   0   0          0\n",
            "1   0   1          0\n",
            "2   1   0          0\n",
            "3   1   1          1\n"
          ],
          "name": "stdout"
        },
        {
          "output_type": "display_data",
          "data": {
            "image/png": "[encoded data removed]",
            "text/plain": [
              "<Figure size 432x288 with 1 Axes>"
            ]
          },
          "metadata": {
            "tags": [],
            "needs_background": "light"
          }
        }
      ]
    },
    {
      "cell_type": "markdown",
      "metadata": {
        "id": "H3u7Kb40SGXJ"
      },
      "source": [
        "# OR"
      ]
    },
    {
      "cell_type": "code",
      "metadata": {
        "colab": {
          "base_uri": "https://localhost:8080/",
          "height": 432
        },
        "id": "1VLh7l_0Q8be",
        "outputId": "59ed987d-0665-4ee4-c79d-f75fc27741b6"
      },
      "source": [
        "def OR(X):\n",
        "  model = keras.Sequential()\n",
        "  model.add(keras.layers.Dense(1,input_dim = 2, activation = 'sigmoid'))\n",
        "  # create weights with the right shape, e.g.\n",
        "  # weights = [np.random.rand(*w.shape) for w in model.get_weights()]\n",
        "  #y = pd.DataFrame([[0],[1],[1],[1]],columns = ['y'])\n",
        "  # update\n",
        "  w1 = [2]\n",
        "  w2 = [2]\n",
        "  b = np.array([-1.5], np.float32)\n",
        "  w = np.array([w1,w2],np.float32)\n",
        "  model.set_weights([w, b])\n",
        "  model.get_weights()\n",
        "  y=model.predict_classes(X)\n",
        "  temp=[]\n",
        "  for i in y:\n",
        "    temp.append(i[0])\n",
        "  y=pd.DataFrame(temp,columns=['y'])\n",
        "  return y\n",
        "#visualizer(model, view=True)\n",
        "#visualizer(model, filename=\"xor\", format ='png', view=True)\n",
        "\n",
        "X = pd.DataFrame([[0,0],[0,1],[1,0],[1,1]], columns = ['x1','x2'])\n",
        "y=OR(X)\n",
        "plot_gate(X,y)\n",
        "X['x1 or x2']=y\n",
        "print(X)"
      ],
      "execution_count": null,
      "outputs": [
        {
          "output_type": "stream",
          "text": [
            "WARNING:tensorflow:8 out of the last 8 calls to <function Model.make_predict_function.<locals>.predict_function at 0x7fc457962cb0> triggered tf.function retracing. Tracing is expensive and the excessive number of tracings could be due to (1) creating @tf.function repeatedly in a loop, (2) passing tensors with different shapes, (3) passing Python objects instead of tensors. For (1), please define your @tf.function outside of the loop. For (2), @tf.function has experimental_relax_shapes=True option that relaxes argument shapes that can avoid unnecessary retracing. For (3), please refer to https://www.tensorflow.org/guide/function#controlling_retracing and https://www.tensorflow.org/api_docs/python/tf/function for  more details.\n"
          ],
          "name": "stdout"
        },
        {
          "output_type": "stream",
          "text": [
            "/usr/local/lib/python3.7/dist-packages/tensorflow/python/keras/engine/sequential.py:450: UserWarning: `model.predict_classes()` is deprecated and will be removed after 2021-01-01. Please use instead:* `np.argmax(model.predict(x), axis=-1)`,   if your model does multi-class classification   (e.g. if it uses a `softmax` last-layer activation).* `(model.predict(x) > 0.5).astype(\"int32\")`,   if your model does binary classification   (e.g. if it uses a `sigmoid` last-layer activation).\n",
            "  warnings.warn('`model.predict_classes()` is deprecated and '\n"
          ],
          "name": "stderr"
        },
        {
          "output_type": "stream",
          "text": [
            "   x1  x2  x1 or x2\n",
            "0   0   0         0\n",
            "1   0   1         1\n",
            "2   1   0         1\n",
            "3   1   1         1\n"
          ],
          "name": "stdout"
        },
        {
          "output_type": "display_data",
          "data": {
            "image/png": "[encoded data removed]",
            "text/plain": [
              "<Figure size 432x288 with 1 Axes>"
            ]
          },
          "metadata": {
            "tags": [],
            "needs_background": "light"
          }
        }
      ]
    },
    {
      "cell_type": "markdown",
      "metadata": {
        "id": "PumAHJPZDDVb"
      },
      "source": [
        "# NOR"
      ]
    },
    {
      "cell_type": "code",
      "metadata": {
        "colab": {
          "base_uri": "https://localhost:8080/",
          "height": 487
        },
        "id": "lkzFRhCLA8-V",
        "outputId": "ea085f2f-7cfc-4970-e980-c406429ed70f"
      },
      "source": [
        "X = pd.DataFrame([[0,0],[0,1],[1,0],[1,1]], columns = ['x1','x2'])\n",
        "y=OR(X)\n",
        "z=Not(y)\n",
        "plot_gate(X,z)\n",
        "X['x1 or x2']=y\n",
        "X['x1 nor x2']=z\n",
        "print(X)"
      ],
      "execution_count": null,
      "outputs": [
        {
          "output_type": "stream",
          "text": [
            "WARNING:tensorflow:6 out of the last 6 calls to <function Model.make_predict_function.<locals>.predict_function at 0x7fc457b96cb0> triggered tf.function retracing. Tracing is expensive and the excessive number of tracings could be due to (1) creating @tf.function repeatedly in a loop, (2) passing tensors with different shapes, (3) passing Python objects instead of tensors. For (1), please define your @tf.function outside of the loop. For (2), @tf.function has experimental_relax_shapes=True option that relaxes argument shapes that can avoid unnecessary retracing. For (3), please refer to https://www.tensorflow.org/guide/function#controlling_retracing and https://www.tensorflow.org/api_docs/python/tf/function for  more details.\n",
            "WARNING:tensorflow:7 out of the last 7 calls to <function Model.make_predict_function.<locals>.predict_function at 0x7fc457ace440> triggered tf.function retracing. Tracing is expensive and the excessive number of tracings could be due to (1) creating @tf.function repeatedly in a loop, (2) passing tensors with different shapes, (3) passing Python objects instead of tensors. For (1), please define your @tf.function outside of the loop. For (2), @tf.function has experimental_relax_shapes=True option that relaxes argument shapes that can avoid unnecessary retracing. For (3), please refer to https://www.tensorflow.org/guide/function#controlling_retracing and https://www.tensorflow.org/api_docs/python/tf/function for  more details.\n"
          ],
          "name": "stdout"
        },
        {
          "output_type": "stream",
          "text": [
            "/usr/local/lib/python3.7/dist-packages/tensorflow/python/keras/engine/sequential.py:450: UserWarning: `model.predict_classes()` is deprecated and will be removed after 2021-01-01. Please use instead:* `np.argmax(model.predict(x), axis=-1)`,   if your model does multi-class classification   (e.g. if it uses a `softmax` last-layer activation).* `(model.predict(x) > 0.5).astype(\"int32\")`,   if your model does binary classification   (e.g. if it uses a `sigmoid` last-layer activation).\n",
            "  warnings.warn('`model.predict_classes()` is deprecated and '\n",
            "/usr/local/lib/python3.7/dist-packages/tensorflow/python/keras/engine/sequential.py:450: UserWarning: `model.predict_classes()` is deprecated and will be removed after 2021-01-01. Please use instead:* `np.argmax(model.predict(x), axis=-1)`,   if your model does multi-class classification   (e.g. if it uses a `softmax` last-layer activation).* `(model.predict(x) > 0.5).astype(\"int32\")`,   if your model does binary classification   (e.g. if it uses a `sigmoid` last-layer activation).\n",
            "  warnings.warn('`model.predict_classes()` is deprecated and '\n"
          ],
          "name": "stderr"
        },
        {
          "output_type": "stream",
          "text": [
            "   x1  x2  x1 or x2  x1 nor x2\n",
            "0   0   0         0          1\n",
            "1   0   1         1          0\n",
            "2   1   0         1          0\n",
            "3   1   1         1          0\n"
          ],
          "name": "stdout"
        },
        {
          "output_type": "display_data",
          "data": {
            "image/png": "[encoded data removed]",
            "text/plain": [
              "<Figure size 432x288 with 1 Axes>"
            ]
          },
          "metadata": {
            "tags": [],
            "needs_background": "light"
          }
        }
      ]
    },
    {
      "cell_type": "markdown",
      "metadata": {
        "id": "mwqn50ytGtrT"
      },
      "source": [
        "#IMPLIES"
      ]
    },
    {
      "cell_type": "code",
      "metadata": {
        "id": "k9ug-JIZGt-H",
        "colab": {
          "base_uri": "https://localhost:8080/",
          "height": 402
        },
        "outputId": "e541951a-20d3-42cc-93eb-7c0f39465b3c"
      },
      "source": [
        "# https://stackoverflow.com/questions/55643732/how-to-set-custom-weights-on-a-keras-sequential-model\n",
        "def implies(X2):\n",
        "  model = keras.Sequential()\n",
        "  model.add(keras.layers.Dense(1,input_dim = 2, activation = 'sigmoid'))\n",
        "  # create weights with the right shape, e.g.\n",
        "  # weights = [np.random.rand(*w.shape) for w in model.get_weights()]\n",
        "\n",
        "  # update\n",
        "  w1 = [-1]\n",
        "  w2 = [2]\n",
        "  b = np.array([0.5], np.float32)\n",
        "  w = np.array([w1,w2],np.float32)\n",
        "  model.set_weights([w, b])\n",
        "  model.get_weights()\n",
        "  \n",
        "  y=[]\n",
        "  z=model.predict_classes(X2)\n",
        "  #plot_model(model)\n",
        "  for i in z:\n",
        "    \n",
        "    y.append(i[0])\n",
        "  y=pd.DataFrame(y,columns=['y'])\n",
        "  \n",
        "  return y\n",
        "#visualizer(model, view=True)\n",
        "#visualizer(model, filename=\"xor\", format ='png', view=True)\n",
        "X2 = pd.DataFrame([[0,0],[0,1],[1,0],[1,1]], columns = ['x1','x2'])\n",
        "#y = pd.DataFrame([[1],[0],[1],[1]],columns = ['y'])\n",
        "y=implies(X2)\n",
        "\n",
        "plot_gate(X2,y)\n",
        "X2['x1 -> x2']=y\n",
        "print(X2)"
      ],
      "execution_count": null,
      "outputs": [
        {
          "output_type": "stream",
          "text": [
            "/usr/local/lib/python3.7/dist-packages/tensorflow/python/keras/engine/sequential.py:450: UserWarning: `model.predict_classes()` is deprecated and will be removed after 2021-01-01. Please use instead:* `np.argmax(model.predict(x), axis=-1)`,   if your model does multi-class classification   (e.g. if it uses a `softmax` last-layer activation).* `(model.predict(x) > 0.5).astype(\"int32\")`,   if your model does binary classification   (e.g. if it uses a `sigmoid` last-layer activation).\n",
            "  warnings.warn('`model.predict_classes()` is deprecated and '\n"
          ],
          "name": "stderr"
        },
        {
          "output_type": "stream",
          "text": [
            "   x1  x2  x1 -> x2\n",
            "0   0   0         1\n",
            "1   0   1         1\n",
            "2   1   0         0\n",
            "3   1   1         1\n"
          ],
          "name": "stdout"
        },
        {
          "output_type": "display_data",
          "data": {
            "image/png": "[encoded data removed]",
            "text/plain": [
              "<Figure size 432x288 with 1 Axes>"
            ]
          },
          "metadata": {
            "tags": [],
            "needs_background": "light"
          }
        }
      ]
    },
    {
      "cell_type": "markdown",
      "metadata": {
        "id": "Ga3DemwDVV0m"
      },
      "source": [
        "# NOT"
      ]
    },
    {
      "cell_type": "code",
      "metadata": {
        "colab": {
          "base_uri": "https://localhost:8080/"
        },
        "id": "Hll7yELPVXqC",
        "outputId": "2e5c9447-cdb2-4cd5-fbed-a8bccf98472e"
      },
      "source": [
        "\n",
        "def Not(X1):\n",
        "  model = keras.Sequential()\n",
        "  model.add(keras.layers.Dense(1,input_dim = 1, activation = 'sigmoid'))\n",
        "  # create weights with the right shape, e.g.\n",
        "  # weights = [np.random.rand(*w.shape) for w in model.get_weights()]\n",
        "  \n",
        "  # update\n",
        "  w1 = [-2]\n",
        "  b = np.array([0.5], np.float32)\n",
        "  w = np.array([w1],np.float32)\n",
        "  model.set_weights([w, b])\n",
        "  model.get_weights()\n",
        "  y=pd.DataFrame(model.predict_classes(X1),columns=['y'])\n",
        "  \n",
        "  return y\n",
        "def plotnot(X1,y):\n",
        "  fig = plt.figure()\n",
        "  ax1 = fig.add_subplot(111)\n",
        "  colors=['red' if i==0 else 'green'  for i in y['y']]\n",
        "  ax1.plot(X1,X1,c='b')\n",
        "  ax1.scatter(X1,y,c=colors)\n",
        "  plt.show()\n",
        "\n",
        "X1 = pd.DataFrame([[0],[1]],columns = ['x1'])\n",
        "y=Not(X1)\n",
        "\n",
        "#plotnot(X1,y)\n",
        "X1['not(x1)']=y\n",
        "print(X1)"
      ],
      "execution_count": null,
      "outputs": [
        {
          "output_type": "stream",
          "text": [
            "   x1  not(x1)\n",
            "0   0        1\n",
            "1   1        0\n"
          ],
          "name": "stdout"
        },
        {
          "output_type": "stream",
          "text": [
            "/usr/local/lib/python3.7/dist-packages/tensorflow/python/keras/engine/sequential.py:450: UserWarning: `model.predict_classes()` is deprecated and will be removed after 2021-01-01. Please use instead:* `np.argmax(model.predict(x), axis=-1)`,   if your model does multi-class classification   (e.g. if it uses a `softmax` last-layer activation).* `(model.predict(x) > 0.5).astype(\"int32\")`,   if your model does binary classification   (e.g. if it uses a `sigmoid` last-layer activation).\n",
            "  warnings.warn('`model.predict_classes()` is deprecated and '\n"
          ],
          "name": "stderr"
        }
      ]
    },
    {
      "cell_type": "markdown",
      "metadata": {
        "id": "hduhdkC-ebBZ"
      },
      "source": [
        "# INHIBITION(NOT IMPLIES) USING IMPLIES AND NOT"
      ]
    },
    {
      "cell_type": "code",
      "metadata": {
        "colab": {
          "base_uri": "https://localhost:8080/",
          "height": 436
        },
        "id": "PIMI1BUlecUZ",
        "outputId": "b2d4f4ff-1a52-406f-d2b4-6722218de1c0"
      },
      "source": [
        "X2 = pd.DataFrame([[0,0],[0,1],[1,0],[1,1]], columns = ['x1','x2'])\n",
        "y = implies(X2)\n",
        "X3= Not(y)\n",
        "plot_gate(X2,X3)\n",
        "X2['x1 implies x2']=y\n",
        "X2['x1 not implies x2']=X3\n",
        "print(X2)"
      ],
      "execution_count": null,
      "outputs": [
        {
          "output_type": "stream",
          "text": [
            "/usr/local/lib/python3.7/dist-packages/tensorflow/python/keras/engine/sequential.py:450: UserWarning: `model.predict_classes()` is deprecated and will be removed after 2021-01-01. Please use instead:* `np.argmax(model.predict(x), axis=-1)`,   if your model does multi-class classification   (e.g. if it uses a `softmax` last-layer activation).* `(model.predict(x) > 0.5).astype(\"int32\")`,   if your model does binary classification   (e.g. if it uses a `sigmoid` last-layer activation).\n",
            "  warnings.warn('`model.predict_classes()` is deprecated and '\n",
            "/usr/local/lib/python3.7/dist-packages/tensorflow/python/keras/engine/sequential.py:450: UserWarning: `model.predict_classes()` is deprecated and will be removed after 2021-01-01. Please use instead:* `np.argmax(model.predict(x), axis=-1)`,   if your model does multi-class classification   (e.g. if it uses a `softmax` last-layer activation).* `(model.predict(x) > 0.5).astype(\"int32\")`,   if your model does binary classification   (e.g. if it uses a `sigmoid` last-layer activation).\n",
            "  warnings.warn('`model.predict_classes()` is deprecated and '\n"
          ],
          "name": "stderr"
        },
        {
          "output_type": "stream",
          "text": [
            "   x1  x2  x1 implies x2  x1 not implies x2\n",
            "0   0   0              1                  0\n",
            "1   0   1              1                  0\n",
            "2   1   0              0                  1\n",
            "3   1   1              1                  0\n"
          ],
          "name": "stdout"
        },
        {
          "output_type": "display_data",
          "data": {
            "image/png": "[encoded data removed]",
            "text/plain": [
              "<Figure size 432x288 with 1 Axes>"
            ]
          },
          "metadata": {
            "tags": [],
            "needs_background": "light"
          }
        }
      ]
    },
    {
      "cell_type": "markdown",
      "metadata": {
        "id": "HWLcLfUqB6wY"
      },
      "source": [
        "# XOR"
      ]
    },
    {
      "cell_type": "code",
      "metadata": {
        "colab": {
          "base_uri": "https://localhost:8080/"
        },
        "id": "rPYgIKzJehB4",
        "outputId": "5916fd6d-dc05-4b29-b9d9-2fbd2a90e056"
      },
      "source": [
        "#XOR\n",
        "X = pd.DataFrame([[0,0],[0,1],[1,0],[1,1]], columns = ['x1','x2'])\n",
        "y = pd.DataFrame([[0],[1],[1],[0]],columns = ['y'])"
      ],
      "execution_count": null,
      "outputs": [
        {
          "output_type": "stream",
          "text": [
            "   x1  x2\n",
            "0   0   0\n",
            "1   0   1\n",
            "2   1   0\n",
            "3   1   1\n",
            "   y\n",
            "0  0\n",
            "1  1\n",
            "2  1\n",
            "3  0\n"
          ],
          "name": "stdout"
        }
      ]
    },
    {
      "cell_type": "code",
      "metadata": {
        "colab": {
          "base_uri": "https://localhost:8080/"
        },
        "id": "-MVFMGubym_2",
        "outputId": "e367f91b-d70a-4716-c79d-5124836a3181"
      },
      "source": [
        "model = keras.Sequential()\n",
        "model.add(keras.layers.Dense(3,input_dim = 2, activation = 'relu'))\n",
        "model.add(keras.layers.Dense(1, activation = 'relu'))\n",
        "\n",
        "w1 = np.array([[5,5,-5],[-5,5,5]],np.float32)\n",
        "b1 = np.array([0,-15,0], np.float32)\n",
        "w2 = np.array([[5],[ -15],[5]],np.float32)\n",
        "b2 = np.array([-5], np.float32)\n",
        "model.set_weights([w1, b1,w2, b2])\n",
        "model.get_weights()\n",
        "model.predict_classes(X)\n",
        "X['x1 exclusive-or x2']=model.predict_classes(X)\n",
        "print(X)"
      ],
      "execution_count": null,
      "outputs": [
        {
          "output_type": "stream",
          "text": [
            "WARNING:tensorflow:10 out of the last 11 calls to <function Model.make_predict_function.<locals>.predict_function at 0x7fb0b4f45050> triggered tf.function retracing. Tracing is expensive and the excessive number of tracings could be due to (1) creating @tf.function repeatedly in a loop, (2) passing tensors with different shapes, (3) passing Python objects instead of tensors. For (1), please define your @tf.function outside of the loop. For (2), @tf.function has experimental_relax_shapes=True option that relaxes argument shapes that can avoid unnecessary retracing. For (3), please refer to https://www.tensorflow.org/guide/function#controlling_retracing and https://www.tensorflow.org/api_docs/python/tf/function for  more details.\n"
          ],
          "name": "stdout"
        },
        {
          "output_type": "stream",
          "text": [
            "/usr/local/lib/python3.7/dist-packages/tensorflow/python/keras/engine/sequential.py:450: UserWarning: `model.predict_classes()` is deprecated and will be removed after 2021-01-01. Please use instead:* `np.argmax(model.predict(x), axis=-1)`,   if your model does multi-class classification   (e.g. if it uses a `softmax` last-layer activation).* `(model.predict(x) > 0.5).astype(\"int32\")`,   if your model does binary classification   (e.g. if it uses a `sigmoid` last-layer activation).\n",
            "  warnings.warn('`model.predict_classes()` is deprecated and '\n",
            "/usr/local/lib/python3.7/dist-packages/tensorflow/python/keras/engine/sequential.py:450: UserWarning: `model.predict_classes()` is deprecated and will be removed after 2021-01-01. Please use instead:* `np.argmax(model.predict(x), axis=-1)`,   if your model does multi-class classification   (e.g. if it uses a `softmax` last-layer activation).* `(model.predict(x) > 0.5).astype(\"int32\")`,   if your model does binary classification   (e.g. if it uses a `sigmoid` last-layer activation).\n",
            "  warnings.warn('`model.predict_classes()` is deprecated and '\n"
          ],
          "name": "stderr"
        },
        {
          "output_type": "stream",
          "text": [
            "   x1  x2  x1 exclusive-or x2\n",
            "0   0   0                   0\n",
            "1   0   1                   1\n",
            "2   1   0                   1\n",
            "3   1   1                   0\n"
          ],
          "name": "stdout"
        }
      ]
    },
    {
      "cell_type": "markdown",
      "metadata": {
        "id": "7NyGLlRjCK-I"
      },
      "source": [
        "# XNOR"
      ]
    },
    {
      "cell_type": "code",
      "metadata": {
        "colab": {
          "base_uri": "https://localhost:8080/",
          "height": 460
        },
        "id": "o7hsg2IQMjiR",
        "outputId": "a214cd92-f689-4e41-aec2-5e3d8be3a28e"
      },
      "source": [
        "#XNOR \n",
        "model = keras.Sequential()\n",
        "model.add(keras.layers.Dense(2,input_dim = 2, activation = 'relu'))\n",
        "model.add(keras.layers.Dense(1, activation = 'sigmoid'))\n",
        "\n",
        "model.get_weights()\n",
        "X = pd.DataFrame([[0,0],[0,1],[1,0],[1,1]], columns = ['x1','x2'])\n",
        "w1 = np.array([[5,-5],[5,-5]],np.float32)\n",
        "b1 = np.array([-5,5], np.float32)\n",
        "w2 = np.array([[5],[ 5]],np.float32)\n",
        "b2 = np.array([-5], np.float32)\n",
        "model.set_weights([w1, b1,w2, b2])\n",
        "model.predict_classes(X)\n",
        "X['x1 exclusive-nor x2']=model.predict_classes(X)\n",
        "print(X)"
      ],
      "execution_count": null,
      "outputs": [
        {
          "output_type": "stream",
          "text": [
            "WARNING:tensorflow:9 out of the last 11 calls to <function Model.make_predict_function.<locals>.predict_function at 0x7fb0b3ce7710> triggered tf.function retracing. Tracing is expensive and the excessive number of tracings could be due to (1) creating @tf.function repeatedly in a loop, (2) passing tensors with different shapes, (3) passing Python objects instead of tensors. For (1), please define your @tf.function outside of the loop. For (2), @tf.function has experimental_relax_shapes=True option that relaxes argument shapes that can avoid unnecessary retracing. For (3), please refer to https://www.tensorflow.org/guide/function#controlling_retracing and https://www.tensorflow.org/api_docs/python/tf/function for  more details.\n",
            "   x1  x2  x1 exclusive-nor x2\n",
            "0   0   0                    1\n",
            "1   0   1                    0\n",
            "2   1   0                    0\n",
            "3   1   1                    1\n"
          ],
          "name": "stdout"
        },
        {
          "output_type": "stream",
          "text": [
            "/usr/local/lib/python3.7/dist-packages/tensorflow/python/keras/engine/sequential.py:450: UserWarning: `model.predict_classes()` is deprecated and will be removed after 2021-01-01. Please use instead:* `np.argmax(model.predict(x), axis=-1)`,   if your model does multi-class classification   (e.g. if it uses a `softmax` last-layer activation).* `(model.predict(x) > 0.5).astype(\"int32\")`,   if your model does binary classification   (e.g. if it uses a `sigmoid` last-layer activation).\n",
            "  warnings.warn('`model.predict_classes()` is deprecated and '\n",
            "/usr/local/lib/python3.7/dist-packages/tensorflow/python/keras/engine/sequential.py:450: UserWarning: `model.predict_classes()` is deprecated and will be removed after 2021-01-01. Please use instead:* `np.argmax(model.predict(x), axis=-1)`,   if your model does multi-class classification   (e.g. if it uses a `softmax` last-layer activation).* `(model.predict(x) > 0.5).astype(\"int32\")`,   if your model does binary classification   (e.g. if it uses a `sigmoid` last-layer activation).\n",
            "  warnings.warn('`model.predict_classes()` is deprecated and '\n"
          ],
          "name": "stderr"
        },
        {
          "output_type": "execute_result",
          "data": {
            "image/png": "[encoded data removed]",
            "text/plain": [
              "<IPython.core.display.Image object>"
            ]
          },
          "metadata": {
            "tags": []
          },
          "execution_count": 30
        }
      ]
    }
  ]
}